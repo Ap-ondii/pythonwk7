{
 "cells": [
  {
   "cell_type": "markdown",
   "id": "8e00831b",
   "metadata": {},
   "source": [
    "# Iris Dataset Analysis\n",
    "\n",
    "This notebook covers loading, exploring, analyzing, and visualizing the Iris dataset."
   ]
  },
  {
   "cell_type": "code",
   "execution_count": null,
   "id": "54de90e2",
   "metadata": {},
   "outputs": [],
   "source": [
    "# Import libraries\n",
    "import pandas as pd\n",
    "import matplotlib.pyplot as plt\n",
    "import seaborn as sns\n",
    "from sklearn.datasets import load_iris"
   ]
  },
  {
   "cell_type": "markdown",
   "id": "a5cdc0f4",
   "metadata": {},
   "source": [
    "## Task 1: Load and Explore the Dataset"
   ]
  },
  {
   "cell_type": "code",
   "execution_count": null,
   "id": "08b630ff",
   "metadata": {},
   "outputs": [],
   "source": [
    "# Load the dataset with error handling\n",
    "try:\n",
    "    iris = load_iris()\n",
    "    df = pd.DataFrame(iris.data, columns=iris.feature_names)\n",
    "    df['species'] = pd.Categorical.from_codes(iris.target, iris.target_names)\n",
    "    \n",
    "    print(\"First 5 rows of the dataset:\")\n",
    "    print(df.head())\n",
    "\n",
    "    print(\"\\nDataset Information:\")\n",
    "    print(df.info())\n",
    "\n",
    "    print(\"\\nMissing values in each column:\")\n",
    "    print(df.isnull().sum())\n",
    "\n",
    "except Exception as e:\n",
    "    print(f\"Error loading dataset: {e}\")\n",
    "\n",
    "# Cleaning dataset (dropping missing values if any)\n",
    "df = df.dropna()"
   ]
  },
  {
   "cell_type": "markdown",
   "id": "434363db",
   "metadata": {},
   "source": [
    "## Task 2: Basic Data Analysis"
   ]
  },
  {
   "cell_type": "code",
   "execution_count": null,
   "id": "0078434d",
   "metadata": {},
   "outputs": [],
   "source": [
    "# Basic statistics\n",
    "print(\"\\nDescriptive Statistics:\")\n",
    "print(df.describe())\n",
    "\n",
    "# Group by species and compute mean\n",
    "grouped_means = df.groupby('species').mean()\n",
    "print(\"\\nMean of features grouped by species:\")\n",
    "print(grouped_means)"
   ]
  },
  {
   "cell_type": "markdown",
   "id": "112ee732",
   "metadata": {},
   "source": [
    "## Task 3: Data Visualization"
   ]
  },
  {
   "cell_type": "code",
   "execution_count": null,
   "id": "ae49c052",
   "metadata": {},
   "outputs": [],
   "source": [
    "# 1. Line chart - Mean Petal Length by Species\n",
    "plt.figure(figsize=(8,5))\n",
    "grouped_means['petal length (cm)'].plot(marker='o')\n",
    "plt.title('Mean Petal Length by Species')\n",
    "plt.xlabel('Species')\n",
    "plt.ylabel('Petal Length (cm)')\n",
    "plt.grid(True)\n",
    "plt.show()"
   ]
  },
  {
   "cell_type": "code",
   "execution_count": null,
   "id": "72fb0d2e",
   "metadata": {},
   "outputs": [],
   "source": [
    "# 2. Bar chart - Average Sepal Width per Species (Corrected)\n",
    "grouped_means_reset = grouped_means.reset_index()\n",
    "\n",
    "plt.figure(figsize=(8,5))\n",
    "sns.barplot(x='species', y='sepal width (cm)', data=grouped_means_reset)\n",
    "plt.title('Average Sepal Width per Species')\n",
    "plt.xlabel('Species')\n",
    "plt.ylabel('Sepal Width (cm)')\n",
    "plt.show()"
   ]
  },
  {
   "cell_type": "code",
   "execution_count": null,
   "id": "28f6fbaf",
   "metadata": {},
   "outputs": [],
   "source": [
    "# 3. Histogram - Distribution of Petal Length\n",
    "plt.figure(figsize=(8,5))\n",
    "plt.hist(df['petal length (cm)'], bins=20, color='skyblue', edgecolor='black')\n",
    "plt.title('Distribution of Petal Length')\n",
    "plt.xlabel('Petal Length (cm)')\n",
    "plt.ylabel('Frequency')\n",
    "plt.show()"
   ]
  },
  {
   "cell_type": "code",
   "execution_count": null,
   "id": "9b222623",
   "metadata": {},
   "outputs": [],
   "source": [
    "# 4. Scatter plot - Sepal Length vs Petal Length\n",
    "plt.figure(figsize=(8,5))\n",
    "sns.scatterplot(x='sepal length (cm)', y='petal length (cm)', hue='species', data=df)\n",
    "plt.title('Sepal Length vs Petal Length')\n",
    "plt.xlabel('Sepal Length (cm)')\n",
    "plt.ylabel('Petal Length (cm)')\n",
    "plt.legend(title='Species')\n",
    "plt.show()"
   ]
  }
 ],
 "metadata": {},
 "nbformat": 4,
 "nbformat_minor": 5
}
